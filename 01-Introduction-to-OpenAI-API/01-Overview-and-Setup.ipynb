{
 "cells": [
  {
   "cell_type": "markdown",
   "metadata": {},
   "source": [
    "# OpenAI API Course: Overview and Setup"
   ]
  },
  {
   "cell_type": "markdown",
   "metadata": {},
   "source": [
    "## Introduction to OpenAI API\n",
    "\n",
    "OpenAI provides a suite of powerful APIs for text generation, speech-to-text, and content moderation. In this course, you will learn how to integrate these APIs into your projects, covering use cases and practical implementations.\n",
    "\n",
    "This notebook introduces you to the basics of setting up the OpenAI API, including account creation and API key configuration.\n",
    "\n",
    "By the end of this section, you will have:\n",
    "- A basic understanding of OpenAI’s API offerings.\n",
    "- Your OpenAI API key and access credentials.\n",
    "- An understanding of the pricing and usage limits."
   ]
  },
  {
   "cell_type": "markdown",
   "metadata": {},
   "source": [
    "## What is the OpenAI API?\n",
    "\n",
    "The OpenAI API allows developers to access several state-of-the-art models trained by OpenAI. These include:\n",
    "\n",
    "- **GPT**: A model capable of generating human-like text.\n",
    "- **Whisper**: A tool for audio transcription.\n",
    "- **Moderation API**: Ensures that content adheres to moderation guidelines and identifies harmful or inappropriate content.\n",
    "\n",
    "These APIs enable developers to build applications in various domains, including chatbots, transcription services, and more."
   ]
  },
  {
   "cell_type": "markdown",
   "metadata": {},
   "source": [
    "## Setting Up Your OpenAI API Key\n",
    "\n",
    "To start using the OpenAI API, follow these steps:\n",
    "\n",
    "1. Sign up for an OpenAI account at [OpenAI Signup](https://platform.openai.com/signup).\n",
    "2. After signing in, navigate to the **API Keys** section in your OpenAI dashboard.\n",
    "3. Create a new API key. This key will be used to authenticate your requests to the API.\n",
    "4. Keep your API key safe! Do not share it publicly.\n",
    "\n",
    "Once you've generated your key, you are ready to start making API requests."
   ]
  },
  {
   "cell_type": "markdown",
   "metadata": {},
   "source": [
    "## Understanding API Usage and Pricing\n",
    "\n",
    "OpenAI offers different pricing models depending on the model and usage. Make sure to familiarize yourself with the pricing to manage your API consumption.\n",
    "\n",
    "- Visit the [OpenAI Pricing Page](https://openai.com/pricing) for the latest details.\n",
    "- Each API call you make will consume tokens, and the cost depends on the model used and the amount of text processed.\n",
    "\n",
    "Example:\n",
    "- **GPT-4** models cost more per token than **GPT-3.5**, but they offer more advanced capabilities.\n",
    "- **Whisper** provides audio transcription for a fixed rate of $0.006 per minute of audio.\n",
    "\n",
    "Be mindful of your usage and monitor your API limits in your OpenAI dashboard."
   ]
  },
  {
   "cell_type": "code",
   "execution_count": null,
   "metadata": {},
   "outputs": [],
   "source": [
    "## Example: Making Your First API Request\n",
    "\n",
    "from openai import OpenAI\n",
    "\n",
    "client = OpenAI(api_key=\"your-api-key-here\")\n",
    "\n",
    "# Example: Use GPT to generate text\n",
    "response = client.completions.create(\n",
    "  model=\"gpt-3.5-turbo-instruct\",\n",
    "  prompt=\"Once upon a time...\",\n",
    "  max_tokens=100\n",
    ")\n",
    "\n",
    "print(response.choices[0].text)"
   ]
  },
  {
   "cell_type": "code",
   "execution_count": null,
   "metadata": {},
   "outputs": [],
   "source": []
  }
 ],
 "metadata": {
  "kernelspec": {
   "display_name": "base",
   "language": "python",
   "name": "python3"
  },
  "language_info": {
   "codemirror_mode": {
    "name": "ipython",
    "version": 3
   },
   "file_extension": ".py",
   "mimetype": "text/x-python",
   "name": "python",
   "nbconvert_exporter": "python",
   "pygments_lexer": "ipython3",
   "version": "3.11.5"
  }
 },
 "nbformat": 4,
 "nbformat_minor": 2
}
