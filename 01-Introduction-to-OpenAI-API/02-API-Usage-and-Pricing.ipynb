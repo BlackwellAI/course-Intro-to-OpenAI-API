{
 "cells": [
  {
   "cell_type": "markdown",
   "metadata": {},
   "source": [
    "# OpenAI API Course: API Usage and Pricing"
   ]
  },
  {
   "cell_type": "markdown",
   "metadata": {},
   "source": [
    "## Introduction to API Usage and Pricing\n",
    "\n",
    "In this section, you will learn how to monitor and manage your API usage effectively. We will also go over the pricing structure for various OpenAI services.\n",
    "\n",
    "Understanding pricing and usage limits will help you control your costs while working with OpenAI models, especially when running larger experiments or deploying applications at scale.\n",
    "\n",
    "By the end of this notebook, you will:\n",
    "- Know how OpenAI’s pricing works for different models.\n",
    "- Understand how to monitor API token usage and limits."
   ]
  },
  {
   "cell_type": "markdown",
   "metadata": {},
   "source": [
    "## How OpenAI’s Pricing Works\n",
    "\n",
    "OpenAI models are priced based on the number of tokens used in requests and responses. Different models have different pricing structures.\n",
    "\n",
    "### Key Terms:\n",
    "- **Tokens**: A token can be as short as one character or as long as one word. For example, \"chatbot\" consists of two tokens: \"chat\" and \"bot\".\n",
    "- **Prompt tokens**: The tokens you send in your request.\n",
    "- **Completion tokens**: The tokens generated in the response.\n",
    "\n",
    "### Model Pricing Overview:\n",
    "- **GPT-4**: More capable, higher cost per token.\n",
    "- **GPT-3.5**: Less expensive but still very powerful.\n",
    "- **Whisper**: Pricing is based on audio duration for transcription tasks.\n",
    "\n",
    "For up-to-date pricing information, visit the [OpenAI Pricing Page](https://openai.com/pricing)."
   ]
  },
  {
   "cell_type": "markdown",
   "metadata": {},
   "source": [
    "## Understanding API Token Usage\n",
    "\n",
    "OpenAI's API limits usage through tokens. Each API request consumes a certain number of tokens based on the input text (prompt) and the generated response.\n",
    "\n",
    "### Example Calculation:\n",
    "If you prompt GPT-4 with a 50-token input and receive a 100-token response, you will have used a total of 150 tokens.\n",
    "\n",
    "You can monitor your token usage through the OpenAI dashboard. This will help you keep track of your monthly usage and ensure you don’t exceed the free-tier limits (if applicable).\n",
    "\n",
    "```python\n",
    "# Example: How to calculate token usage in Python\n",
    "from openai import OpenAI\n",
    "\n",
    "# Assuming you have already set your API key\n",
    "client = OpenAI(api_key = \"your-api-key-here\")\n",
    "\n",
    "# Sample API call to generate a response using GPT\n",
    "response = client.completions.create(\n",
    "  model=\"gpt-3.5-turbo-instruct\",\n",
    "  prompt=\"Explain how token usage is calculated in OpenAI's API.\",\n",
    "  max_tokens=50\n",
    ")\n",
    "\n",
    "# Print the prompt and response tokens\n",
    "print(f\"Prompt Tokens: {response.usage.prompt_tokens}\")\n",
    "print(f\"Completion Tokens: {response.usage.completion_tokens}\")\n",
    "print(f\"Total Tokens Used: {response.usage.total_tokens}\")"
   ]
  },
  {
   "cell_type": "markdown",
   "metadata": {},
   "source": [
    "## How to Monitor Your API Usage\n",
    "\n",
    "To track your API usage and costs, OpenAI provides detailed reports on the dashboard. Here's how you can monitor your usage:\n",
    "\n",
    "1. **Go to your OpenAI account**: Visit your [OpenAI Dashboard](https://platform.openai.com/account/usage).\n",
    "2. **View daily and monthly usage**: You can view the number of tokens used each day and see a summary of total usage for the month.\n",
    "3. **Set usage limits**: You can also set soft limits to prevent exceeding your desired monthly budget.\n",
    "\n",
    "Here is an example of how to retrieve usage details programmatically:\n",
    "\n",
    "```python\n",
    "# Example: Programmatically fetch usage stats\n",
    "import requests\n",
    "\n",
    "api_key = \"your-api-key-here\"\n",
    "\n",
    "headers = {\n",
    "    \"Authorization\": f\"Bearer {api_key}\"\n",
    "}\n",
    "\n",
    "# API request to get usage stats\n",
    "response = requests.get(\"https://api.openai.com/v1/usage\", headers=headers)\n",
    "usage_data = response.json()\n",
    "\n",
    "# Display usage data (adjust for your needs)\n",
    "print(usage_data)"
   ]
  },
  {
   "cell_type": "markdown",
   "metadata": {},
   "source": [
    "## **Example: Pricing for GPT-4 vs. GPT-3.5:**\n",
    "\n",
    "Let’s compare the cost of generating text using GPT-4 versus GPT-3.5. The cost for GPT-4 is higher per token, but it offers more advanced capabilities.\n",
    "\n",
    "```python\n",
    "# Example comparison of usage between GPT-4 and GPT-3.5\n",
    "from openai import OpenAI\n",
    "\n",
    "# Set up your API key\n",
    "client = OpenAI(api_key = \"your-api-key-here\")\n",
    "\n",
    "# GPT-3.5 API call\n",
    "response_gpt35 = client.completions.create(\n",
    "  model=\"gpt-3.5-turbo-instruct\",\n",
    "  prompt=\"Explain the benefits of using GPT-4 over GPT-3.5.\",\n",
    "  max_tokens=100\n",
    ")\n",
    "\n",
    "# GPT-4 API call\n",
    "response_gpt4 = client.chat.completions.create(\n",
    "  model=\"gpt-4\",\n",
    "  messages=[{\"role\": \"user\", \"content\": \"Explain the benefits of using GPT-4 over GPT-3.5.\"}],\n",
    "  max_tokens=100\n",
    ")\n",
    "\n",
    "# Display total tokens used\n",
    "print(f\"GPT-3.5 Tokens Used: {response_gpt35.usage.total_tokens}\")\n",
    "print(f\"GPT-4 Tokens Used: {response_gpt4.usage.total_tokens}\")"
   ]
  },
  {
   "cell_type": "markdown",
   "metadata": {},
   "source": [
    "## **Conclusion and Next Steps:**\n",
    "\n",
    "```markdown\n",
    "\n",
    "In this notebook, we covered:\n",
    "- How OpenAI’s pricing structure works.\n",
    "- How to calculate and monitor token usage.\n",
    "- How to compare usage between different models.\n",
    "\n",
    "Next, you will dive into specific use cases, starting with **GPT for Text Generation**, where you will learn how to generate text using OpenAI’s powerful language models.\n",
    "\n",
    "[Proceed to the next notebook: GPT for Text Generation](../02-GPT-for-Text-Generation/01-Text-Completion.ipynb)"
   ]
  }
 ],
 "metadata": {
  "language_info": {
   "name": "python"
  }
 },
 "nbformat": 4,
 "nbformat_minor": 2
}
